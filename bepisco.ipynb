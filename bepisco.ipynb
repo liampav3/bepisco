{
 "cells": [
  {
   "cell_type": "markdown",
   "metadata": {},
   "source": [
    "<h1>Brant Et Pavlovic Imotion-based Sentiment Classifier Omgit'ssogood</h1>"
   ]
  },
  {
   "cell_type": "code",
   "execution_count": 18,
   "metadata": {},
   "outputs": [
    {
     "name": "stderr",
     "output_type": "stream",
     "text": [
      "Using TensorFlow backend.\n"
     ]
    }
   ],
   "source": [
    "import numpy as np\n",
    "import pandas as pd\n",
    "import matplotlib.pyplot as plt\n",
    "import re\n",
    "import string\n",
    "\n",
    "from keras.preprocessing.text import Tokenizer\n",
    "from keras.preprocessing.sequence import pad_sequences\n",
    "from keras.utils import to_categorical\n",
    "from keras.models import Sequential\n",
    "from keras.layers import Dense\n",
    "from keras.layers import SimpleRNN\n",
    "from keras.layers import Embedding\n",
    "from keras.layers import Flatten\n",
    "from keras.layers import LSTM\n",
    "\n",
    "from gensim.models import Word2Vec\n",
    "from sklearn.manifold import TSNE\n",
    "from sklearn.model_selection import train_test_split\n",
    "from sklearn.metrics import accuracy_score\n",
    "import seaborn as sns\n",
    "from nltk.stem.porter import PorterStemmer\n",
    "from collections import Counter\n",
    "import math\n",
    "\n",
    "import tweepy\n",
    "import requests"
   ]
  },
  {
   "cell_type": "markdown",
   "metadata": {},
   "source": [
    "<h2> Data Import and Cleaning </h2>"
   ]
  },
  {
   "cell_type": "code",
   "execution_count": 19,
   "metadata": {},
   "outputs": [
    {
     "name": "stdout",
     "output_type": "stream",
     "text": [
      "20000\n",
      "['im feeling rather rotten so im not very ambitious right now;sadness\\n', 'im updating my blog because i feel shitty;sadness\\n', 'i never make her separate from me because i don t ever want her to feel like i m ashamed with her;sadness\\n', 'i left with my bouquet of red and yellow tulips under my arm feeling slightly more optimistic than when i arrived;joy\\n', 'i was feeling a little vain when i did this one;sadness\\n', 'i cant walk into a shop anywhere where i do not feel uncomfortable;fear\\n', 'i felt anger when at the end of a telephone call;anger\\n', 'i explain why i clung to a relationship with a boy who was in many ways immature and uncommitted despite the excitement i should have been feeling for getting accepted into the masters program at the university of virginia;joy\\n', 'i like to have the same breathless feeling as a reader eager to see what will happen next;joy\\n', 'i jest i feel grumpy tired and pre menstrual which i probably am but then again its only been a week and im about as fit as a walrus on vacation for the summer;anger\\n']\n",
      "102979\n",
      "   Emotion                                               Text\n",
      "0        0  Say , Jim , how about going for a few beers af...\n",
      "1        0   You know that is tempting but is really not g...\n",
      "2        0     What do you mean ? It will help us to relax . \n",
      "3        0   Do you really think so ? I don't . It will ju...\n",
      "4        0   I guess you are right.But what shall we do ? ...\n",
      "5        0   I suggest a walk over to the gym where we can...\n",
      "6        4   That's a good idea . I hear Mary and Sally of...\n",
      "7        4   Sounds great to me ! If they are willing , we...\n",
      "8        4                             Good.Let ' s go now . \n",
      "9        4                                       All right . \n"
     ]
    }
   ],
   "source": [
    "# get that data\n",
    "def load_txt_data(paths):\n",
    "    data_list = []\n",
    "    for dataset in paths:\n",
    "        with open(dataset, 'r') as data:\n",
    "            datas = data.readlines()\n",
    "            for d in datas:\n",
    "                data_list.append(d)\n",
    "    return data_list\n",
    "\n",
    "# might use the sets separately, might combine em and chop em up as i please, idk we'll see what happens\n",
    "# these bois also need some good ol' fashioned cleaning (get rid of punctuation and end of lines)\n",
    "kaggle_paths = ['data/kaggle_data/test.txt', 'data/kaggle_data/train.txt', 'data/kaggle_data/val.txt']\n",
    "kaggle_data_precleaning = load_txt_data(kaggle_paths)\n",
    "print(len(kaggle_data_precleaning))\n",
    "print(kaggle_data_precleaning[:10])\n",
    "\n",
    "dialog_path = 'data/dailydialog.csv'\n",
    "dialog_df = pd.read_csv(dialog_path)\n",
    "print(len(dialog_df))\n",
    "print(dialog_df[:10])\n",
    "\n"
   ]
  },
  {
   "cell_type": "code",
   "execution_count": 20,
   "metadata": {},
   "outputs": [
    {
     "data": {
      "text/html": [
       "<div>\n",
       "<style scoped>\n",
       "    .dataframe tbody tr th:only-of-type {\n",
       "        vertical-align: middle;\n",
       "    }\n",
       "\n",
       "    .dataframe tbody tr th {\n",
       "        vertical-align: top;\n",
       "    }\n",
       "\n",
       "    .dataframe thead th {\n",
       "        text-align: right;\n",
       "    }\n",
       "</style>\n",
       "<table border=\"1\" class=\"dataframe\">\n",
       "  <thead>\n",
       "    <tr style=\"text-align: right;\">\n",
       "      <th></th>\n",
       "      <th>Emotion</th>\n",
       "      <th>Text</th>\n",
       "    </tr>\n",
       "  </thead>\n",
       "  <tbody>\n",
       "    <tr>\n",
       "      <th>0</th>\n",
       "      <td>neutral</td>\n",
       "      <td>[say, jim, how, about, go, for, a, few, beer, ...</td>\n",
       "    </tr>\n",
       "    <tr>\n",
       "      <th>1</th>\n",
       "      <td>neutral</td>\n",
       "      <td>[you, know, that, is, tempt, but, is, realli, ...</td>\n",
       "    </tr>\n",
       "    <tr>\n",
       "      <th>2</th>\n",
       "      <td>neutral</td>\n",
       "      <td>[what, do, you, mean, it, will, help, us, to, ...</td>\n",
       "    </tr>\n",
       "    <tr>\n",
       "      <th>3</th>\n",
       "      <td>neutral</td>\n",
       "      <td>[do, you, realli, think, so, i, dont, it, will...</td>\n",
       "    </tr>\n",
       "    <tr>\n",
       "      <th>4</th>\n",
       "      <td>neutral</td>\n",
       "      <td>[i, guess, you, are, right, but, what, shall, ...</td>\n",
       "    </tr>\n",
       "    <tr>\n",
       "      <th>...</th>\n",
       "      <td>...</td>\n",
       "      <td>...</td>\n",
       "    </tr>\n",
       "    <tr>\n",
       "      <th>63772</th>\n",
       "      <td>sadness</td>\n",
       "      <td>[im, have, ssa, examin, tomorrow, in, the, mor...</td>\n",
       "    </tr>\n",
       "    <tr>\n",
       "      <th>63773</th>\n",
       "      <td>happiness</td>\n",
       "      <td>[i, constantli, worri, about, their, fight, ag...</td>\n",
       "    </tr>\n",
       "    <tr>\n",
       "      <th>63774</th>\n",
       "      <td>happiness</td>\n",
       "      <td>[i, feel, it, import, to, share, thi, info, fo...</td>\n",
       "    </tr>\n",
       "    <tr>\n",
       "      <th>63775</th>\n",
       "      <td>happiness</td>\n",
       "      <td>[i, truli, feel, that, if, you, are, passion, ...</td>\n",
       "    </tr>\n",
       "    <tr>\n",
       "      <th>63776</th>\n",
       "      <td>happiness</td>\n",
       "      <td>[i, feel, like, i, just, wanna, buy, ani, cute...</td>\n",
       "    </tr>\n",
       "  </tbody>\n",
       "</table>\n",
       "<p>63777 rows × 2 columns</p>\n",
       "</div>"
      ],
      "text/plain": [
       "         Emotion                                               Text\n",
       "0        neutral  [say, jim, how, about, go, for, a, few, beer, ...\n",
       "1        neutral  [you, know, that, is, tempt, but, is, realli, ...\n",
       "2        neutral  [what, do, you, mean, it, will, help, us, to, ...\n",
       "3        neutral  [do, you, realli, think, so, i, dont, it, will...\n",
       "4        neutral  [i, guess, you, are, right, but, what, shall, ...\n",
       "...          ...                                                ...\n",
       "63772    sadness  [im, have, ssa, examin, tomorrow, in, the, mor...\n",
       "63773  happiness  [i, constantli, worri, about, their, fight, ag...\n",
       "63774  happiness  [i, feel, it, import, to, share, thi, info, fo...\n",
       "63775  happiness  [i, truli, feel, that, if, you, are, passion, ...\n",
       "63776  happiness  [i, feel, like, i, just, wanna, buy, ani, cute...\n",
       "\n",
       "[63777 rows x 2 columns]"
      ]
     },
     "execution_count": 20,
     "metadata": {},
     "output_type": "execute_result"
    }
   ],
   "source": [
    "# clean that data\n",
    "\n",
    "#adding neg_ tags on words after not, no, ect.\n",
    "def add_negation(toks):\n",
    "    negwords = ['not', 'no', 'never']\n",
    "    negtoks = []\n",
    "    neg = False\n",
    "    for tok in toks:\n",
    "        if neg and tok not in string.punctuation:\n",
    "            negtoks.append('not_' + tok)\n",
    "        else:\n",
    "            negtoks.append(tok)\n",
    "        if 'n\\'t' in tok or tok in negwords:\n",
    "            neg = True\n",
    "        if re.search(r'[,.?:;]', tok):\n",
    "            neg = False\n",
    "    return negtoks\n",
    "\n",
    "def everything_before_semicolon(sent):\n",
    "    idx = sent.find(\";\")\n",
    "    if idx != -1:\n",
    "        return sent[:idx]\n",
    "    \n",
    "def everything_after_semicolon(sent):\n",
    "    idx = sent.find(\";\")\n",
    "    if idx != -1:\n",
    "        return sent[idx+1:len(sent)-1]\n",
    "\n",
    "def clean_data(data):\n",
    "    stemmer = PorterStemmer()\n",
    "    \n",
    "    #adding negation tagging to data\n",
    "    cdata = [add_negation(sent) for sent in data]\n",
    "    #removing punctuation\n",
    "    cdata = [[re.sub(r'[^\\w\\s]', '', word) for word in sent] for sent in cdata]\n",
    "    #stemming \n",
    "    cdata =[[stemmer.stem(word) for word in sent] for sent in cdata]\n",
    "    #remove empty/space entries\n",
    "    cdata = [[word for word in sent if not word.isspace() and word != ''] for sent in cdata]\n",
    "    return cdata\n",
    "    \n",
    "\n",
    "\n",
    "\n",
    "dialog_data = [dialog.lower() for dialog in dialog_df['Text'].tolist()]\n",
    "dialog_data = [re.sub(r'[.,?!:;]', '. ', sent).split() for sent in dialog_data]\n",
    "kaggle_data = [everything_before_semicolon(sent).split() for sent in kaggle_data_precleaning]\n",
    "\n",
    "merge_data = dialog_data + kaggle_data\n",
    "merge_data = clean_data(merge_data)\n",
    "\n",
    "# the daily dialog dataset has emotions encoded in nums from 0-6, as represented below\n",
    "dialog_encodings = {0: \"neutral\", 1: \"anger\", 2: \"disgust\", 3: \"fear\", 4: \"happiness\", 5: \"sadness\", 6: \"surprise\"}\n",
    "\n",
    "\n",
    "kaggle_emotions = [everything_after_semicolon(sent) for sent in kaggle_data_precleaning]\n",
    "#editing labels to line up the two datasets better\n",
    "kaggle_emotions = [word if word != 'joy' else 'happiness' for word in kaggle_emotions ]\n",
    "\n",
    "\n",
    "dialog_emotions = [dialog_encodings[emotion] for emotion in dialog_df['Emotion']]\n",
    "\n",
    "\n",
    "merge_emotions = dialog_emotions + kaggle_emotions\n",
    "\n",
    "emo_dic = {'sadness': 0, 'fear': 1, 'disgust': 2, 'neutral': 3,'surprise': 4, 'happiness': 5, 'anger': 6, 'love': 7}\n",
    "\n",
    "#removing sentences with more than 50 words, they are a small part of the dataset and significantly slow down\n",
    "#our models\n",
    "merge_drop = []\n",
    "emo_drop = []\n",
    "for i in range(0, len(merge_data)):\n",
    "    if len(merge_data[i]) <= 50:\n",
    "        merge_drop.append(merge_data[i])\n",
    "        emo_drop.append(merge_emotions[i])\n",
    "        \n",
    "merge_data = merge_drop\n",
    "merge_emotions = emo_drop\n",
    "\n",
    "\n",
    "merge_df = pd.DataFrame({\"Emotion\": merge_emotions, 'Text':merge_data})\n",
    "\n",
    "# get rid of a bunch of neutral datapoints bc there's waaaaay too many of 'em rn\n",
    "emotion_counts = merge_df['Emotion'].value_counts()\n",
    "\n",
    "neutrals_less = merge_df.loc[merge_df[\"Emotion\"] == \"neutral\"][:emotion_counts[1]]\n",
    "\n",
    "nm_data = []\n",
    "nm_emo = []\n",
    "\n",
    "for i in range(0, len(merge_data)):\n",
    "    data = merge_data[i]\n",
    "    emo = merge_emotions[i]\n",
    "   \n",
    "    if emo != \"neutral\" or data in list(neutrals_less[\"Text\"]):\n",
    "        nm_data.append(data)\n",
    "        nm_emo.append(emo)\n",
    "\n",
    "merge_data = nm_data\n",
    "merge_emotions = nm_emo\n",
    "merge_df = pd.DataFrame({\"Emotion\": merge_emotions, 'Text': merge_data})\n",
    "\n",
    "X = merge_df['Text']\n",
    "y = merge_df['Emotion']\n",
    "y = [emo_dic[e] for e in y]\n",
    "\n",
    "\n",
    "\n",
    "trainX, testX, trainy, testy = train_test_split(X, y, shuffle=True)\n",
    "merge_df"
   ]
  },
  {
   "cell_type": "markdown",
   "metadata": {},
   "source": [
    "<h2> Exploratory Data Analysis (graphs and what not) </h2>"
   ]
  },
  {
   "cell_type": "code",
   "execution_count": 78,
   "metadata": {},
   "outputs": [
    {
     "data": {
      "text/plain": [
       "<AxesSubplot:xlabel='Emotion', ylabel='Count'>"
      ]
     },
     "execution_count": 78,
     "metadata": {},
     "output_type": "execute_result"
    },
    {
     "data": {
      "image/png": "[encoded data removed]",
      "text/plain": [
       "<Figure size 432x288 with 1 Axes>"
      ]
     },
     "metadata": {
      "needs_background": "light"
     },
     "output_type": "display_data"
    }
   ],
   "source": [
    "# graph that data\n",
    "\n",
    "# spread of emotions\n",
    "count_df = pd.DataFrame({\"Emotion\": pd.unique(merge_df['Emotion']), \"Count\": merge_df['Emotion'].value_counts()})\n",
    "sns.barplot(data=count_df, x=\"Emotion\", y=\"Count\")\n",
    "    "
   ]
  },
  {
   "cell_type": "markdown",
   "metadata": {},
   "source": [
    "_\"What makes a man turn neutral? Lust for gold? Power? Or were you just born with a heart full of neutrality?\"_ - Zapp Brannigan"
   ]
  },
  {
   "cell_type": "code",
   "execution_count": 79,
   "metadata": {},
   "outputs": [
    {
     "name": "stdout",
     "output_type": "stream",
     "text": [
      "50\n"
     ]
    },
    {
     "data": {
      "image/png": "[encoded data removed]",
      "text/plain": [
       "<Figure size 432x288 with 1 Axes>"
      ]
     },
     "metadata": {
      "needs_background": "light"
     },
     "output_type": "display_data"
    }
   ],
   "source": [
    "# check out the size of stuff for the embeddings for rnns so we know what kinda padding needs to go down\n",
    "lens = [len(thing) for thing in merge_data]\n",
    "max_len = max(lens)\n",
    "min_len = min(lens)\n",
    "print(max_len)\n",
    "len_counts = [lens.count(i) for i in range(min_len, max_len)]\n",
    "\n",
    "plt.plot(range(min_len, max_len), len_counts)\n",
    "plt.title(\"frequency of sentence lengths from training data\")\n",
    "plt.xlabel(\"sentence length\")\n",
    "plt.ylabel(\"count\")\n",
    "plt.show()"
   ]
  },
  {
   "cell_type": "markdown",
   "metadata": {},
   "source": [
    "The data is very heavily clustered/skewed toward the left, so we can probably drop all the datapoints with len of > ~50 - 75ish (makes no sense to pad everything up to 250ish for so few datapoints)"
   ]
  },
  {
   "cell_type": "markdown",
   "metadata": {},
   "source": [
    "<h2> Statistical Model (Naive Bayes (Homie)) </h2>"
   ]
  },
  {
   "cell_type": "code",
   "execution_count": 48,
   "metadata": {},
   "outputs": [],
   "source": [
    "# make that model\n",
    "def calc_prob(num, denom):\n",
    "    return math.log((num + 1) / denom, math.e)\n",
    "\n",
    "'''\n",
    "This implementation of Naive Bayes works by maintaining a count of occurences for every word in every class.\n",
    "It uses these counts to calculate the relative probability of a sequence being in each class and classifies\n",
    "that sequence into the class with highest probability\n",
    "'''\n",
    "class NaiveBayes:\n",
    "    def __init__(self, num_classes):\n",
    "        self.model = [Counter() for i in range(num_classes)]\n",
    "        self.N = []\n",
    "        self.nc = num_classes\n",
    "        self.V = 0\n",
    "        self.ndoc = [0 for i in range(num_classes)]\n",
    "        self.vocab = 0\n",
    "    \n",
    "    def train(self,df):\n",
    "        for row in df.iterrows():\n",
    "            lb = row[1][\"y\"]\n",
    "            self.ndoc[lb] += 1\n",
    "            \n",
    "            for word in row[1]['X']:\n",
    "                self.model[lb][word] += 1\n",
    "        \n",
    "        self.N = [len(self.model[i]) for i in range(self.nc)]\n",
    "        cdic = sum(self.model, Counter())\n",
    "        self.V = len(cdic)\n",
    "        self.vocab = cdic.keys()\n",
    "    \n",
    "    def test(self, seq):\n",
    "        result = [0 for i in range(self.nc)]\n",
    "        \n",
    "        for t in seq:\n",
    "            if t in self.vocab:\n",
    "                for i in range(self.nc):\n",
    "                    result[i] += calc_prob(self.model[i][t], self.N[i] + self.V)\n",
    "        for i in range(self.nc):\n",
    "            result[i] += math.log(self.ndoc[i]/sum(self.ndoc), math.e)\n",
    "        \n",
    "        return [math.e**v for v in result]\n",
    "    \n",
    "    def classify(self, seq):\n",
    "        \n",
    "        result = self.test(seq)\n",
    "        return result.index(max(result))\n",
    "    \n",
    "        "
   ]
  },
  {
   "cell_type": "code",
   "execution_count": 49,
   "metadata": {},
   "outputs": [],
   "source": [
    "# train that model\n",
    "homie = NaiveBayes(len(emo_dic))\n",
    "train_df = pd.DataFrame({'X':trainX, 'y':trainy})\n",
    "homie.train(train_df)"
   ]
  },
  {
   "cell_type": "code",
   "execution_count": 52,
   "metadata": {},
   "outputs": [
    {
     "name": "stdout",
     "output_type": "stream",
     "text": [
      "Recall and Precision by Emotion\n",
      "Emotion \tPrecision\tRecall\n",
      "sadness    \t0.9251101321585903\t0.12589928057553956\n",
      "fear    \t0.0\t0.0\n",
      "disgust    \t0\t0.0\n",
      "neutral    \t0.6252985668789809\t0.9445279615153337\n",
      "surprise    \t0\t0.0\n",
      "happiness    \t0.486930413281526\t0.5670505964623612\n",
      "anger    \t1.0\t0.006030150753768844\n",
      "love    \t1.0\t0.0025974025974025974\n",
      "\n",
      "Model Accuracy:  0.5805581687049232\n"
     ]
    }
   ],
   "source": [
    "# test that model\n",
    "\n",
    "#running model on test data and loading in gold labels\n",
    "pred_lab = [homie.classify(x) for x in testX]\n",
    "gold_lab = testy\n",
    "\n",
    "#calculating number of true postivies for every label\n",
    "tps = [0 for i in range(len(emo_dic))]\n",
    "for p, g in zip(pred_lab, gold_lab):\n",
    "    if p == g:\n",
    "        tps[p] += 1\n",
    "\n",
    "#Calculating the precision and recall for every label\n",
    "print(\"Recall and Precision by Emotion\")\n",
    "print('Emotion \\tPrecision\\tRecall')\n",
    "for k,v in emo_dic.items():\n",
    "    if pred_lab.count(v) == 0:\n",
    "        prec = 0\n",
    "    else:\n",
    "        prec = tps[v]/pred_lab.count(v)\n",
    "    if gold_lab.count(v) == 0:\n",
    "        rec = 0\n",
    "    else:\n",
    "        rec = tps[v]/gold_lab.count(v)\n",
    "        \n",
    "    print(k + \"    \\t\" + str(prec) + \"\\t\" + str(rec))\n",
    "\n",
    "#Using sklearn to calculate overall model accuracy\n",
    "print()\n",
    "homie_acc = accuracy_score(gold_lab, pred_lab)\n",
    "print(\"Model Accuracy: \", homie_score)\n"
   ]
  },
  {
   "cell_type": "markdown",
   "metadata": {},
   "source": [
    "<h2>Neural Models</h2>"
   ]
  },
  {
   "cell_type": "markdown",
   "metadata": {},
   "source": [
    "<h3>Prepare data for neural models</h3>"
   ]
  },
  {
   "cell_type": "code",
   "execution_count": 22,
   "metadata": {},
   "outputs": [],
   "source": [
    "#Setting parameters for desired vocab size and maximum sentence length\n",
    "VSIZE = 150000\n",
    "MAX_LEN = 50\n",
    "\n",
    "#tokenizing the train and test data\n",
    "tokenizer = Tokenizer(num_words=VSIZE)\n",
    "tokenizer.fit_on_texts(trainX)\n",
    "trainJ = [\" \".join(sent) for sent in trainX]\n",
    "ntrainX = tokenizer.texts_to_sequences(trainJ)\n",
    "ntrainX = pad_sequences(ntrainX, maxlen=MAX_LEN)\n",
    "testJ = [\" \".join(sent) for sent in testX]\n",
    "ntestX = tokenizer.texts_to_sequences(testJ)\n",
    "ntestX = pad_sequences(ntestX, maxlen=MAX_LEN)\n",
    "\n",
    "#Vectorizing the train and test labels\n",
    "ntrainy = to_categorical(trainy, num_classes=len(emo_dic), dtype='int32')\n",
    "ntesty = to_categorical(testy, num_classes=len(emo_dic), dtype='int32')"
   ]
  },
  {
   "cell_type": "markdown",
   "metadata": {},
   "source": [
    "<h3>Deep Learning Feed-Forward (Bart)</h3>"
   ]
  },
  {
   "cell_type": "code",
   "execution_count": 57,
   "metadata": {},
   "outputs": [
    {
     "name": "stdout",
     "output_type": "stream",
     "text": [
      "Model: \"sequential_4\"\n",
      "_________________________________________________________________\n",
      "Layer (type)                 Output Shape              Param #   \n",
      "=================================================================\n",
      "embedding_4 (Embedding)      (None, 50, 200)           30000000  \n",
      "_________________________________________________________________\n",
      "flatten_3 (Flatten)          (None, 10000)             0         \n",
      "_________________________________________________________________\n",
      "dense_8 (Dense)              (None, 200)               2000200   \n",
      "_________________________________________________________________\n",
      "dense_9 (Dense)              (None, 100)               20100     \n",
      "_________________________________________________________________\n",
      "dense_10 (Dense)             (None, 8)                 808       \n",
      "=================================================================\n",
      "Total params: 32,021,108\n",
      "Trainable params: 32,021,108\n",
      "Non-trainable params: 0\n",
      "_________________________________________________________________\n"
     ]
    }
   ],
   "source": [
    "# build it\n",
    "bart = Sequential()\n",
    "bart.add(Embedding(VSIZE, 200, input_length=MAX_LEN))\n",
    "bart.add(Flatten())\n",
    "bart.add(Dense(200, activation='relu'))\n",
    "bart.add(Dense(100, activation='relu'))\n",
    "bart.add(Dense(len(emo_dic), activation='softmax'))\n",
    "\n",
    "bart.compile(loss=\"categorical_crossentropy\", optimizer='adam', metrics=['accuracy'])\n",
    "bart.summary()"
   ]
  },
  {
   "cell_type": "code",
   "execution_count": 58,
   "metadata": {},
   "outputs": [
    {
     "name": "stderr",
     "output_type": "stream",
     "text": [
      "/Users/liampav/opt/anaconda3/envs/nlp2/lib/python3.6/site-packages/tensorflow_core/python/framework/indexed_slices.py:424: UserWarning: Converting sparse IndexedSlices to a dense Tensor of unknown shape. This may consume a large amount of memory.\n",
      "  \"Converting sparse IndexedSlices to a dense Tensor of unknown shape. \"\n"
     ]
    },
    {
     "name": "stdout",
     "output_type": "stream",
     "text": [
      "Train on 38265 samples, validate on 9567 samples\n",
      "Epoch 1/2\n",
      "38265/38265 [==============================] - 106s 3ms/step - loss: 1.1212 - accuracy: 0.5937 - val_loss: 0.9221 - val_accuracy: 0.6758\n",
      "Epoch 2/2\n",
      "38265/38265 [==============================] - 114s 3ms/step - loss: 0.6586 - accuracy: 0.7717 - val_loss: 0.7749 - val_accuracy: 0.7289\n"
     ]
    },
    {
     "data": {
      "text/plain": [
       "<keras.callbacks.callbacks.History at 0x7f888cc36860>"
      ]
     },
     "execution_count": 58,
     "metadata": {},
     "output_type": "execute_result"
    }
   ],
   "source": [
    "# train it\n",
    "bart.fit(ntrainX, ntrainy, batch_size=128, epochs=2, validation_split=.2)\n"
   ]
  },
  {
   "cell_type": "code",
   "execution_count": 69,
   "metadata": {},
   "outputs": [
    {
     "name": "stdout",
     "output_type": "stream",
     "text": [
      "15945/15945 [==============================] - 1s 74us/step\n",
      "Test Score:  0.7804283670737624\n",
      "Test Accuracy:  0.7321417331695557\n"
     ]
    }
   ],
   "source": [
    "# work it\n",
    "bart_score = bart.evaluate(ntestX, ntesty)\n",
    "print('Test Score: ', bart_score[0])\n",
    "print('Test Accuracy: ', bart_score[1])"
   ]
  },
  {
   "cell_type": "markdown",
   "metadata": {},
   "source": [
    "<h3>RNN with LSTMs (Marge)</h3>"
   ]
  },
  {
   "cell_type": "code",
   "execution_count": 61,
   "metadata": {},
   "outputs": [
    {
     "name": "stdout",
     "output_type": "stream",
     "text": [
      "Model: \"sequential_5\"\n",
      "_________________________________________________________________\n",
      "Layer (type)                 Output Shape              Param #   \n",
      "=================================================================\n",
      "embedding_5 (Embedding)      (None, 50, 200)           30000000  \n",
      "_________________________________________________________________\n",
      "lstm_2 (LSTM)                (None, 56)                57568     \n",
      "_________________________________________________________________\n",
      "dense_11 (Dense)             (None, 8)                 456       \n",
      "=================================================================\n",
      "Total params: 30,058,024\n",
      "Trainable params: 30,058,024\n",
      "Non-trainable params: 0\n",
      "_________________________________________________________________\n"
     ]
    }
   ],
   "source": [
    "# make it\n",
    "marge = Sequential()\n",
    "marge.add(Embedding(VSIZE, 200, input_length=MAX_LEN))\n",
    "marge.add(LSTM(56))\n",
    "marge.add(Dense(8, activation='softmax'))\n",
    "\n",
    "marge.compile(loss=\"categorical_crossentropy\", optimizer='adam', metrics=['accuracy'])\n",
    "marge.summary()"
   ]
  },
  {
   "cell_type": "code",
   "execution_count": 62,
   "metadata": {},
   "outputs": [
    {
     "name": "stderr",
     "output_type": "stream",
     "text": [
      "/Users/liampav/opt/anaconda3/envs/nlp2/lib/python3.6/site-packages/tensorflow_core/python/framework/indexed_slices.py:424: UserWarning: Converting sparse IndexedSlices to a dense Tensor of unknown shape. This may consume a large amount of memory.\n",
      "  \"Converting sparse IndexedSlices to a dense Tensor of unknown shape. \"\n"
     ]
    },
    {
     "name": "stdout",
     "output_type": "stream",
     "text": [
      "Train on 38265 samples, validate on 9567 samples\n",
      "Epoch 1/3\n",
      "38265/38265 [==============================] - 164s 4ms/step - loss: 1.1828 - accuracy: 0.5805 - val_loss: 0.9486 - val_accuracy: 0.6748\n",
      "Epoch 2/3\n",
      "38265/38265 [==============================] - 174s 5ms/step - loss: 0.7478 - accuracy: 0.7502 - val_loss: 0.7241 - val_accuracy: 0.7529\n",
      "Epoch 3/3\n",
      "38265/38265 [==============================] - 172s 4ms/step - loss: 0.5652 - accuracy: 0.8090 - val_loss: 0.6931 - val_accuracy: 0.7651\n"
     ]
    },
    {
     "data": {
      "text/plain": [
       "<keras.callbacks.callbacks.History at 0x7f888ecefa58>"
      ]
     },
     "execution_count": 62,
     "metadata": {},
     "output_type": "execute_result"
    }
   ],
   "source": [
    "# train it\n",
    "marge.fit(ntrainX, ntrainy, batch_size=128, epochs=3, validation_split=.2)"
   ]
  },
  {
   "cell_type": "code",
   "execution_count": 70,
   "metadata": {},
   "outputs": [
    {
     "name": "stdout",
     "output_type": "stream",
     "text": [
      "15945/15945 [==============================] - 15s 945us/step\n",
      "Test Score:  0.7002577377472151\n",
      "Test Accuracy:  0.7638758420944214\n"
     ]
    }
   ],
   "source": [
    "# work it\n",
    "marge_score = marge.evaluate(ntestX, ntesty)\n",
    "print('Test Score: ', marge_score[0])\n",
    "print('Test Accuracy: ', marge_score[1])"
   ]
  },
  {
   "cell_type": "markdown",
   "metadata": {},
   "source": [
    "<h2>Comparing Model Accuracy</h2>"
   ]
  },
  {
   "cell_type": "code",
   "execution_count": 71,
   "metadata": {},
   "outputs": [
    {
     "data": {
      "text/plain": [
       "<AxesSubplot:xlabel='Model', ylabel='Accuracy'>"
      ]
     },
     "execution_count": 71,
     "metadata": {},
     "output_type": "execute_result"
    },
    {
     "data": {
      "image/png": "[encoded data removed]",
      "text/plain": [
       "<Figure size 432x288 with 1 Axes>"
      ]
     },
     "metadata": {
      "needs_background": "light"
     },
     "output_type": "display_data"
    }
   ],
   "source": [
    "score_df = pd.DataFrame({\"Model\": ['Homie', 'Bart', 'Marge'], \"Accuracy\": [homie_acc, bart_score[1], marge_score[1]]})\n",
    "sns.barplot(data=score_df, x=\"Model\", y=\"Accuracy\")"
   ]
  },
  {
   "cell_type": "markdown",
   "metadata": {},
   "source": [
    "<h2> Testing on Twitter using tweepy</h2>"
   ]
  },
  {
   "cell_type": "markdown",
   "metadata": {},
   "source": [
    "<h3> Setting Up API </h3>"
   ]
  },
  {
   "cell_type": "code",
   "execution_count": 15,
   "metadata": {},
   "outputs": [
    {
     "name": "stdout",
     "output_type": "stream",
     "text": [
      "Authentication OK\n"
     ]
    }
   ],
   "source": [
    "\n",
    "auth = tweepy.OAuthHandler(\"FKEHI0IoW6QOqf9uwQKdDAcVP\", \"Ix3gDx7Q7654YUvz1M9FmYNDw05V54qak9dA9jpLg3hGMVYB0m\")\n",
    "auth.set_access_token('1222255868043022337-DIxKqvkevpmvyiKNHMzmYSyKdvyEpC', '2ybWYmRbZSExhEpNT6ATtL67g15lvxEH1eMq8YeXYkhij')\n",
    "\n",
    "api = tweepy.API(auth, wait_on_rate_limit=True, wait_on_rate_limit_notify=True)\n",
    "\n",
    "\n",
    "try:\n",
    "    api.verify_credentials()\n",
    "    print(\"Authentication OK\")\n",
    "except:\n",
    "    print(\"Error during authentication\")\n",
    "\n"
   ]
  },
  {
   "cell_type": "markdown",
   "metadata": {},
   "source": [
    "<h3> Scraping Twitter Data </h3>"
   ]
  },
  {
   "cell_type": "code",
   "execution_count": 72,
   "metadata": {},
   "outputs": [
    {
     "name": "stderr",
     "output_type": "stream",
     "text": [
      "Rate limit reached. Sleeping for: 396\n"
     ]
    }
   ],
   "source": [
    "def get_hashtag_data(ht, date_since, num_tweet=1000):\n",
    "    tweep = tweepy.Cursor(api.search, q=ht, lang='en', since=date_since, tweet_mode='extended').items(num_tweet)\n",
    "    tweets = [tweet for tweet in tweep]\n",
    "    tweet_cont = []\n",
    "    \n",
    "    for tweet in tweets:\n",
    "        try:\n",
    "            tweet_cont.append(tweet.retweeted_status.full_text)\n",
    "        except AttributeError:\n",
    "            tweet_cont.append(tweet.full_text)\n",
    "    tweet_text = []\n",
    "    for tc in tweet_cont:\n",
    "        tok = tc.split()\n",
    "        tok = [t for t in tok if not t.startswith('#') and not t.startswith('http')]\n",
    "        tweet_text.append(' '.join(tok))\n",
    "    \n",
    "    tdata = clean_data([t.split() for t in tweet_text])\n",
    "    tdata = [' '.join(t) for t in tdata]\n",
    "    tdata = tokenizer.texts_to_sequences(tdata)\n",
    "    tdata = pad_sequences(tdata, MAX_LEN)\n",
    "    \n",
    "    return tdata\n",
    "\n",
    "mcdata = get_hashtag_data('#TOMMYVLOG', '2021-04-19')\n",
    "dauntedata = get_hashtag_data('#DaunteWright', '2021-04-10')"
   ]
  },
  {
   "cell_type": "markdown",
   "metadata": {},
   "source": [
    "<h3> Analyzing Twitter Data with Neural Models </h3>"
   ]
  },
  {
   "cell_type": "code",
   "execution_count": 77,
   "metadata": {},
   "outputs": [
    {
     "data": {
      "image/png": "[encoded data removed]",
      "text/plain": [
       "<Figure size 432x288 with 1 Axes>"
      ]
     },
     "metadata": {
      "needs_background": "light"
     },
     "output_type": "display_data"
    },
    {
     "data": {
      "image/png": "[encoded data removed]",
      "text/plain": [
       "<Figure size 432x288 with 1 Axes>"
      ]
     },
     "metadata": {
      "needs_background": "light"
     },
     "output_type": "display_data"
    },
    {
     "data": {
      "image/png": "[encoded data removed]",
      "text/plain": [
       "<Figure size 432x288 with 1 Axes>"
      ]
     },
     "metadata": {
      "needs_background": "light"
     },
     "output_type": "display_data"
    },
    {
     "data": {
      "image/png": "[encoded data removed]",
      "text/plain": [
       "<Figure size 432x288 with 1 Axes>"
      ]
     },
     "metadata": {
      "needs_background": "light"
     },
     "output_type": "display_data"
    }
   ],
   "source": [
    "def classify_ht(data, model, mname, htname):\n",
    "    counts = [0 for i in range(len(emo_dic))]\n",
    "    for t in data:\n",
    "        emot = model.predict(x=t.reshape(1, -1))\n",
    "        emot = emot.reshape(-1)\n",
    "        emot = emot.tolist()\n",
    "        emot = emot.index(max(emot))\n",
    "        counts[emot] += 1\n",
    "        \n",
    "        x = emo_dic.keys()\n",
    "    score_df = pd.DataFrame({\"Emotion\": x, \"Num. Tweets\":counts})\n",
    "    sns.barplot(data=score_df, x=\"Emotion\", y=\"Num. Tweets\").set_title(mname + \" Emotion Counts for Tweets Containing \" + htname)\n",
    "    plt.show()\n",
    "classify_ht(dauntedata, marge, 'Marge', '#DaunteWright')\n",
    "classify_ht(dauntedata, bart, 'Bart', '#DaunteWright')\n",
    "classify_ht(mcdata, marge, 'Marge', '#TOMMYVLOG')\n",
    "classify_ht(mcdata, bart, 'Bart', '#TOMMYVLOG')"
   ]
  }
 ],
 "metadata": {
  "kernelspec": {
   "display_name": "Python 3",
   "language": "python",
   "name": "python3"
  },
  "language_info": {
   "codemirror_mode": {
    "name": "ipython",
    "version": 3
   },
   "file_extension": ".py",
   "mimetype": "text/x-python",
   "name": "python",
   "nbconvert_exporter": "python",
   "pygments_lexer": "ipython3",
   "version": "3.7.6"
  }
 },
 "nbformat": 4,
 "nbformat_minor": 4
}
